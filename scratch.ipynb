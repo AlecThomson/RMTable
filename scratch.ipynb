{
 "cells": [
  {
   "cell_type": "code",
   "execution_count": 1,
   "metadata": {},
   "outputs": [],
   "source": [
    "from astropy.table import Table"
   ]
  },
  {
   "cell_type": "code",
   "execution_count": 2,
   "metadata": {},
   "outputs": [
    {
     "data": {
      "text/html": [
       "<div>\n",
       "<style scoped>\n",
       "    .dataframe tbody tr th:only-of-type {\n",
       "        vertical-align: middle;\n",
       "    }\n",
       "\n",
       "    .dataframe tbody tr th {\n",
       "        vertical-align: top;\n",
       "    }\n",
       "\n",
       "    .dataframe thead th {\n",
       "        text-align: right;\n",
       "    }\n",
       "</style>\n",
       "<table border=\"1\" class=\"dataframe\">\n",
       "  <thead>\n",
       "    <tr style=\"text-align: right;\">\n",
       "      <th></th>\n",
       "      <th>col1</th>\n",
       "      <th>col2</th>\n",
       "      <th>col3</th>\n",
       "    </tr>\n",
       "  </thead>\n",
       "  <tbody>\n",
       "    <tr>\n",
       "      <th>0</th>\n",
       "      <td>Q</td>\n",
       "      <td>arith</td>\n",
       "      <td>Arithmetic quantities</td>\n",
       "    </tr>\n",
       "    <tr>\n",
       "      <th>1</th>\n",
       "      <td>S</td>\n",
       "      <td>arith.diff</td>\n",
       "      <td>Difference between two quantities described by...</td>\n",
       "    </tr>\n",
       "    <tr>\n",
       "      <th>2</th>\n",
       "      <td>P</td>\n",
       "      <td>arith.factor</td>\n",
       "      <td>Numerical factor</td>\n",
       "    </tr>\n",
       "    <tr>\n",
       "      <th>3</th>\n",
       "      <td>P</td>\n",
       "      <td>arith.grad</td>\n",
       "      <td>Gradient</td>\n",
       "    </tr>\n",
       "    <tr>\n",
       "      <th>4</th>\n",
       "      <td>P</td>\n",
       "      <td>arith.rate</td>\n",
       "      <td>Rate (per time unit)</td>\n",
       "    </tr>\n",
       "    <tr>\n",
       "      <th>...</th>\n",
       "      <td>...</td>\n",
       "      <td>...</td>\n",
       "      <td>...</td>\n",
       "    </tr>\n",
       "    <tr>\n",
       "      <th>518</th>\n",
       "      <td>Q</td>\n",
       "      <td>time.relax</td>\n",
       "      <td>Relaxation time</td>\n",
       "    </tr>\n",
       "    <tr>\n",
       "      <th>519</th>\n",
       "      <td>Q</td>\n",
       "      <td>time.release</td>\n",
       "      <td>The time/date data is available to the public</td>\n",
       "    </tr>\n",
       "    <tr>\n",
       "      <th>520</th>\n",
       "      <td>Q</td>\n",
       "      <td>time.resolution</td>\n",
       "      <td>Time resolution</td>\n",
       "    </tr>\n",
       "    <tr>\n",
       "      <th>521</th>\n",
       "      <td>Q</td>\n",
       "      <td>time.scale</td>\n",
       "      <td>Timescale</td>\n",
       "    </tr>\n",
       "    <tr>\n",
       "      <th>522</th>\n",
       "      <td>Q</td>\n",
       "      <td>time.start</td>\n",
       "      <td>Start time/date of generic event</td>\n",
       "    </tr>\n",
       "  </tbody>\n",
       "</table>\n",
       "<p>523 rows × 3 columns</p>\n",
       "</div>"
      ],
      "text/plain": [
       "    col1             col2                                               col3\n",
       "0      Q            arith                              Arithmetic quantities\n",
       "1      S       arith.diff  Difference between two quantities described by...\n",
       "2      P     arith.factor                                   Numerical factor\n",
       "3      P       arith.grad                                           Gradient\n",
       "4      P       arith.rate                               Rate (per time unit)\n",
       "..   ...              ...                                                ...\n",
       "518    Q       time.relax                                    Relaxation time\n",
       "519    Q     time.release      The time/date data is available to the public\n",
       "520    Q  time.resolution                                    Time resolution\n",
       "521    Q       time.scale                                          Timescale\n",
       "522    Q       time.start                   Start time/date of generic event\n",
       "\n",
       "[523 rows x 3 columns]"
      ]
     },
     "execution_count": 2,
     "metadata": {},
     "output_type": "execute_result"
    }
   ],
   "source": [
    "ucds = Table.read('ucd1p-words.txt', format='ascii.no_header').to_pandas()\n",
    "ucds"
   ]
  },
  {
   "cell_type": "code",
   "execution_count": 1,
   "metadata": {},
   "outputs": [
    {
     "data": {
      "text/plain": [
       "'1.2'"
      ]
     },
     "execution_count": 1,
     "metadata": {},
     "output_type": "execute_result"
    }
   ],
   "source": [
    "import rmtable as rmt\n",
    "import numpy as np\n",
    "rmt.__version__"
   ]
  },
  {
   "cell_type": "code",
   "execution_count": 5,
   "metadata": {},
   "outputs": [
    {
     "name": "stderr",
     "output_type": "stream",
     "text": [
      "/Users/tho822/dev/RMTable/rmtable.py:33: YAMLLoadWarning: calling yaml.load() without Loader=... is deprecated, as the default Loader is unsafe. Please read https://msg.pyyaml.org/load for full details.\n",
      "  standard = yaml.load(f)\n"
     ]
    },
    {
     "ename": "AttributeError",
     "evalue": "'list' object has no attribute 'values'",
     "output_type": "error",
     "traceback": [
      "\u001b[0;31m---------------------------------------------------------------------------\u001b[0m",
      "\u001b[0;31mAttributeError\u001b[0m                            Traceback (most recent call last)",
      "\u001b[0;32m/var/folders/rg/tk14ndkj435d8d1yj25dbz1w00p7kq/T/ipykernel_99785/717072169.py\u001b[0m in \u001b[0;36m<module>\u001b[0;34m\u001b[0m\n\u001b[0;32m----> 1\u001b[0;31m \u001b[0mrmt\u001b[0m\u001b[0;34m.\u001b[0m\u001b[0mRMTable\u001b[0m\u001b[0;34m(\u001b[0m\u001b[0;34m)\u001b[0m\u001b[0;34m\u001b[0m\u001b[0;34m\u001b[0m\u001b[0m\n\u001b[0m",
      "\u001b[0;32m~/dev/RMTable/rmtable.py\u001b[0m in \u001b[0;36m__init__\u001b[0;34m(self)\u001b[0m\n\u001b[1;32m     49\u001b[0m             \u001b[0mnames\u001b[0m\u001b[0;34m=\u001b[0m\u001b[0mself\u001b[0m\u001b[0;34m.\u001b[0m\u001b[0mstandard_columns\u001b[0m\u001b[0;34m,\u001b[0m\u001b[0;34m\u001b[0m\u001b[0;34m\u001b[0m\u001b[0m\n\u001b[1;32m     50\u001b[0m             \u001b[0mdtype\u001b[0m\u001b[0;34m=\u001b[0m\u001b[0mself\u001b[0m\u001b[0;34m.\u001b[0m\u001b[0mstandard_dtypes\u001b[0m\u001b[0;34m,\u001b[0m\u001b[0;34m\u001b[0m\u001b[0;34m\u001b[0m\u001b[0m\n\u001b[0;32m---> 51\u001b[0;31m             \u001b[0munits\u001b[0m\u001b[0;34m=\u001b[0m\u001b[0mlist\u001b[0m\u001b[0;34m(\u001b[0m\u001b[0mself\u001b[0m\u001b[0;34m.\u001b[0m\u001b[0mstandard_units\u001b[0m\u001b[0;34m.\u001b[0m\u001b[0mvalues\u001b[0m\u001b[0;34m(\u001b[0m\u001b[0;34m)\u001b[0m\u001b[0;34m)\u001b[0m\u001b[0;34m,\u001b[0m\u001b[0;34m\u001b[0m\u001b[0;34m\u001b[0m\u001b[0m\n\u001b[0m\u001b[1;32m     52\u001b[0m         )\n\u001b[1;32m     53\u001b[0m         \u001b[0mself\u001b[0m\u001b[0;34m.\u001b[0m\u001b[0mtable\u001b[0m\u001b[0;34m.\u001b[0m\u001b[0mmeta\u001b[0m\u001b[0;34m[\u001b[0m\u001b[0;34m\"VERSION\"\u001b[0m\u001b[0;34m]\u001b[0m \u001b[0;34m=\u001b[0m \u001b[0mversion\u001b[0m\u001b[0;34m\u001b[0m\u001b[0;34m\u001b[0m\u001b[0m\n",
      "\u001b[0;31mAttributeError\u001b[0m: 'list' object has no attribute 'values'"
     ]
    }
   ],
   "source": [
    "rmt.RMTable()"
   ]
  },
  {
   "cell_type": "code",
   "execution_count": 22,
   "metadata": {},
   "outputs": [],
   "source": [
    "standard=[  \n",
    "    ['ra','f8',[0,360],None,'deg'],\n",
    "    ['dec','f8',[-90,90],None,'deg'],\n",
    "    ['l','f8',[0,360],None,'deg'],\n",
    "    ['b','f8',[-90,90],None,'deg'],\n",
    "    ['pos_err','f4',[0,np.inf],np.nan,'deg'],\n",
    "    ['rm','f4',[-np.inf,np.inf],np.nan,'rad.m-2'],\n",
    "    ['rm_err','f4',[0,np.inf],np.nan,'rad.m-2'],\n",
    "    ['rm_width','f4',[0,np.inf],np.nan,'rad.m-2'],\n",
    "    ['rm_width_err','f4',[0,np.inf],np.nan,'rad.m-2'],\n",
    "    ['complex_flag','U1','','U','',],\n",
    "    ['complex_test','U80','','','',],\n",
    "    ['rm_method','U40','','Unknown','',],\n",
    "    ['ionosphere','U40','','Unknown',''],\n",
    "    ['Ncomp','i4',[1,np.inf],1,''],\n",
    "    ['stokesI','f4',[0,np.inf],np.nan,'Jy'],\n",
    "    ['stokesI_err','f4',[0,np.inf],np.nan,'Jy'],\n",
    "    ['spectral_index','f4',[-np.inf,np.inf],np.nan,''],\n",
    "    ['spectral_index_err','f4',[0,np.inf],np.nan,''],\n",
    "    ['reffreq_I','f4',[-np.inf,np.inf],np.nan,'Hz'],\n",
    "    ['polint','f4',[0,np.inf],np.nan,'Jy'],\n",
    "    ['polint_err','f4',[0,np.inf],np.nan,'Jy'],\n",
    "    ['pol_bias','U40','','Unknown',''],\n",
    "    ['flux_type','U40','','Unknown',''],\n",
    "    ['aperture','f4',[0,np.inf],np.nan,'deg'],\n",
    "    ['fracpol','f4',[0,np.inf],np.nan,''],\n",
    "    ['fracpol_err','f4',[0,np.inf],np.nan,''],\n",
    "    ['polangle','f4',[0,180],np.nan,'deg'],\n",
    "    ['polangle_err','f4',[0,np.inf],np.nan,'deg'],\n",
    "    ['reffreq_pol','f4',[0,np.inf],np.nan,'Hz'],\n",
    "    ['stokesQ','f4',[-np.inf,np.inf],np.nan,'Jy'],\n",
    "    ['stokesQ_err','f4',[0,np.inf],np.nan,'Jy'],\n",
    "    ['stokesU','f4',[-np.inf,np.inf],np.nan,'Jy'],\n",
    "    ['stokesU_err','f4',[0,np.inf],np.nan,'Jy'],\n",
    "    ['derot_polangle','f4',[0,180],np.nan,'deg'],\n",
    "    ['derot_polangle_err','f4',[0,np.inf],np.nan,'deg'],\n",
    "    ['stokesV','f4',[-np.inf,np.inf],np.nan,'Jy'],\n",
    "    ['stokesV_err','f4',[0,np.inf],np.nan,'Jy'],\n",
    "    ['beam_maj','f4',[0,np.inf],np.nan,'deg'],\n",
    "    ['beam_min','f4',[0,np.inf],np.nan,'deg'],\n",
    "    ['beam_pa','f4',[0,180],np.nan,'deg'],\n",
    "    ['reffreq_beam','f4',[0,np.inf],np.nan,'Hz'],\n",
    "    ['minfreq','f4',[0,np.inf],np.nan,'Hz'],\n",
    "    ['maxfreq','f4',[0,np.inf],np.nan,'Hz'],\n",
    "    ['channelwidth','f4',[0,np.inf],np.nan,'Hz'],\n",
    "    ['Nchan','i4',[0,np.inf],-2147483648,''],\n",
    "    ['rmsf_fwhm','f4',[0,np.inf],np.nan,'rad.m-2'],\n",
    "    ['noise_chan','f4',[0,np.inf],np.nan,'Jy'],\n",
    "    ['telescope','U80','','Unknown',''],\n",
    "    ['int_time','f4',[0,np.inf],np.nan,'s'],\n",
    "    ['epoch','f4',[-np.inf,np.inf],np.nan,'day'],\n",
    "    ['interval','f4',[0,np.inf],np.nan,'day'],\n",
    "    ['leakage','f4',[0,np.inf],np.nan,''],\n",
    "    ['beamdist','f4',[0,np.inf],np.nan,'deg'],\n",
    "    ['catalog','U40','',None,''],\n",
    "    ['dataref','U400','','',''],\n",
    "    ['cat_id','U40','','',''],\n",
    "    ['type','U40','','',''],\n",
    "    ['notes','U200','','','']        ]"
   ]
  },
  {
   "cell_type": "code",
   "execution_count": 13,
   "metadata": {},
   "outputs": [],
   "source": [
    "import numpy as np\n",
    "import json\n",
    "import yaml"
   ]
  },
  {
   "cell_type": "code",
   "execution_count": 23,
   "metadata": {},
   "outputs": [],
   "source": [
    "standard_dict = {}\n",
    "for s in standard:\n",
    "    standard_dict[s[0]] = {\n",
    "        \"dtype\":s[1],\n",
    "        \"limits\":s[2],\n",
    "        \"blank\":s[3],\n",
    "        \"units\":s[4]\n",
    "    }\n",
    "version = \"1.2\"\n",
    "standard_dict[\"version\"] = version"
   ]
  },
  {
   "cell_type": "code",
   "execution_count": 15,
   "metadata": {},
   "outputs": [
    {
     "data": {
      "text/plain": [
       "'1.2'"
      ]
     },
     "execution_count": 15,
     "metadata": {},
     "output_type": "execute_result"
    }
   ],
   "source": [
    "rmt.__version__"
   ]
  },
  {
   "cell_type": "code",
   "execution_count": 24,
   "metadata": {},
   "outputs": [],
   "source": [
    "# with open(f'standard_v{version}.json', 'w') as f:\n",
    "#     json.dump(standard_dict, f)\n",
    "# with open(f'standard_v{version}.json', 'r') as f:\n",
    "#     test = json.load(f)\n",
    "# test"
   ]
  },
  {
   "cell_type": "code",
   "execution_count": 17,
   "metadata": {},
   "outputs": [],
   "source": [
    "version = \"1.2\""
   ]
  },
  {
   "cell_type": "code",
   "execution_count": 25,
   "metadata": {},
   "outputs": [
    {
     "name": "stderr",
     "output_type": "stream",
     "text": [
      "/var/folders/rg/tk14ndkj435d8d1yj25dbz1w00p7kq/T/ipykernel_99785/2586015387.py:4: YAMLLoadWarning: calling yaml.load() without Loader=... is deprecated, as the default Loader is unsafe. Please read https://msg.pyyaml.org/load for full details.\n",
      "  standard = yaml.load(f)\n"
     ]
    }
   ],
   "source": [
    "with open(f'standard_v{version}.yaml', 'w') as f:\n",
    "    yaml.dump(standard_dict, f)\n",
    "with open(f'standard_v{version}.yaml', 'r') as f:\n",
    "    standard = yaml.load(f)\n",
    "# test.pop(\"version\")"
   ]
  },
  {
   "cell_type": "code",
   "execution_count": 27,
   "metadata": {},
   "outputs": [],
   "source": [
    "assert standard.pop(\"version\") == version, \"Version number mismatch\"\n"
   ]
  },
  {
   "cell_type": "code",
   "execution_count": 36,
   "metadata": {},
   "outputs": [
    {
     "data": {
      "text/plain": [
       "['',\n",
       " '',\n",
       " 'deg',\n",
       " 'deg',\n",
       " 'deg',\n",
       " 'deg',\n",
       " 'deg',\n",
       " 'deg',\n",
       " '',\n",
       " '',\n",
       " 'Hz',\n",
       " '',\n",
       " '',\n",
       " '',\n",
       " 'deg',\n",
       " 'deg',\n",
       " 'deg',\n",
       " 'day',\n",
       " '',\n",
       " '',\n",
       " '',\n",
       " 's',\n",
       " 'day',\n",
       " '',\n",
       " 'deg',\n",
       " '',\n",
       " 'Hz',\n",
       " 'Hz',\n",
       " 'Jy',\n",
       " '',\n",
       " '',\n",
       " 'deg',\n",
       " 'deg',\n",
       " 'Jy',\n",
       " 'Jy',\n",
       " 'deg',\n",
       " 'deg',\n",
       " 'Hz',\n",
       " 'Hz',\n",
       " 'Hz',\n",
       " 'rad.m-2',\n",
       " 'rad.m-2',\n",
       " '',\n",
       " 'rad.m-2',\n",
       " 'rad.m-2',\n",
       " 'rad.m-2',\n",
       " '',\n",
       " '',\n",
       " 'Jy',\n",
       " 'Jy',\n",
       " 'Jy',\n",
       " 'Jy',\n",
       " 'Jy',\n",
       " 'Jy',\n",
       " 'Jy',\n",
       " 'Jy',\n",
       " '',\n",
       " '']"
      ]
     },
     "execution_count": 36,
     "metadata": {},
     "output_type": "execute_result"
    }
   ],
   "source": [
    "standard_columns = list(standard.keys())\n",
    "[standard[col]['units'] for col in standard_columns]"
   ]
  },
  {
   "cell_type": "code",
   "execution_count": 1,
   "metadata": {},
   "outputs": [],
   "source": [
    "from astropy.table import Table"
   ]
  },
  {
   "cell_type": "markdown",
   "metadata": {},
   "source": []
  },
  {
   "cell_type": "code",
   "execution_count": 1,
   "metadata": {},
   "outputs": [],
   "source": [
    "from rmtable import RMTable"
   ]
  },
  {
   "cell_type": "code",
   "execution_count": 2,
   "metadata": {},
   "outputs": [],
   "source": [
    "# Table.__init__()"
   ]
  },
  {
   "cell_type": "code",
   "execution_count": 3,
   "metadata": {},
   "outputs": [
    {
     "data": {
      "text/html": [
       "<div><i>Table length=0</i>\n",
       "<table id=\"table140379002474848\" class=\"table-striped table-bordered table-condensed\">\n",
       "<thead><tr><th>Nchan</th><th>Ncomp</th><th>aperture</th><th>b</th><th>beam_maj</th><th>beam_min</th><th>beam_pa</th><th>beamdist</th><th>cat_id</th><th>catalog</th><th>channelwidth</th><th>complex_flag</th><th>complex_test</th><th>dataref</th><th>dec</th><th>derot_polangle</th><th>derot_polangle_err</th><th>epoch</th><th>flux_type</th><th>fracpol</th><th>fracpol_err</th><th>int_time</th><th>interval</th><th>ionosphere</th><th>l</th><th>leakage</th><th>maxfreq</th><th>minfreq</th><th>noise_chan</th><th>notes</th><th>pol_bias</th><th>polangle</th><th>polangle_err</th><th>polint</th><th>polint_err</th><th>pos_err</th><th>ra</th><th>reffreq_I</th><th>reffreq_beam</th><th>reffreq_pol</th><th>rm</th><th>rm_err</th><th>rm_method</th><th>rm_width</th><th>rm_width_err</th><th>rmsf_fwhm</th><th>spectral_index</th><th>spectral_index_err</th><th>stokesI</th><th>stokesI_err</th><th>stokesQ</th><th>stokesQ_err</th><th>stokesU</th><th>stokesU_err</th><th>stokesV</th><th>stokesV_err</th><th>telescope</th><th>type</th></tr></thead>\n",
       "<thead><tr><th></th><th></th><th>deg</th><th>deg</th><th>deg</th><th>deg</th><th>deg</th><th>deg</th><th></th><th></th><th>Hz</th><th></th><th></th><th></th><th>deg</th><th>deg</th><th>deg</th><th>d</th><th></th><th></th><th></th><th>s</th><th>d</th><th></th><th>deg</th><th></th><th>Hz</th><th>Hz</th><th>Jy</th><th></th><th></th><th>deg</th><th>deg</th><th>Jy</th><th>Jy</th><th>deg</th><th>deg</th><th>Hz</th><th>Hz</th><th>Hz</th><th>rad / m2</th><th>rad / m2</th><th></th><th>rad / m2</th><th>rad / m2</th><th>rad / m2</th><th></th><th></th><th>Jy</th><th>Jy</th><th>Jy</th><th>Jy</th><th>Jy</th><th>Jy</th><th>Jy</th><th>Jy</th><th></th><th></th></tr></thead>\n",
       "<thead><tr><th>int32</th><th>int32</th><th>float32</th><th>float64</th><th>float32</th><th>float32</th><th>float32</th><th>float32</th><th>str40</th><th>str40</th><th>float32</th><th>str1</th><th>str80</th><th>str400</th><th>float64</th><th>float32</th><th>float32</th><th>float32</th><th>str40</th><th>float32</th><th>float32</th><th>float32</th><th>float32</th><th>str40</th><th>float64</th><th>float32</th><th>float32</th><th>float32</th><th>float32</th><th>str200</th><th>str40</th><th>float32</th><th>float32</th><th>float32</th><th>float32</th><th>float32</th><th>float64</th><th>float32</th><th>float32</th><th>float32</th><th>float32</th><th>float32</th><th>str40</th><th>float32</th><th>float32</th><th>float32</th><th>float32</th><th>float32</th><th>float32</th><th>float32</th><th>float32</th><th>float32</th><th>float32</th><th>float32</th><th>float32</th><th>float32</th><th>str80</th><th>str40</th></tr></thead>\n",
       "</table></div>"
      ],
      "text/plain": [
       "<Table length=0>\n",
       "Nchan Ncomp aperture    b    beam_maj ... stokesV stokesV_err telescope  type\n",
       "              deg      deg     deg    ...    Jy        Jy                    \n",
       "int32 int32 float32  float64 float32  ... float32   float32     str80   str40\n",
       "----- ----- -------- ------- -------- ... ------- ----------- --------- -----"
      ]
     },
     "execution_count": 3,
     "metadata": {},
     "output_type": "execute_result"
    }
   ],
   "source": [
    "RMTable()"
   ]
  },
  {
   "cell_type": "code",
   "execution_count": null,
   "metadata": {},
   "outputs": [],
   "source": [
    "RMTable().read"
   ]
  },
  {
   "cell_type": "code",
   "execution_count": 4,
   "metadata": {},
   "outputs": [
    {
     "data": {
      "text/plain": [
       "<rmtable.RMTable at 0x7fe808ee8730>"
      ]
     },
     "execution_count": 4,
     "metadata": {},
     "output_type": "execute_result"
    }
   ],
   "source": [
    "tab = RMTable()\n",
    "tab"
   ]
  },
  {
   "cell_type": "code",
   "execution_count": 42,
   "metadata": {},
   "outputs": [
    {
     "ename": "AttributeError",
     "evalue": "'RMTable' object has no attribute 'table'",
     "output_type": "error",
     "traceback": [
      "\u001b[0;31m---------------------------------------------------------------------------\u001b[0m",
      "\u001b[0;31mAttributeError\u001b[0m                            Traceback (most recent call last)",
      "\u001b[0;32m/var/folders/rg/tk14ndkj435d8d1yj25dbz1w00p7kq/T/ipykernel_99785/2097322599.py\u001b[0m in \u001b[0;36m<module>\u001b[0;34m\u001b[0m\n\u001b[0;32m----> 1\u001b[0;31m \u001b[0mtab\u001b[0m\u001b[0;34m.\u001b[0m\u001b[0mtable\u001b[0m\u001b[0;34m\u001b[0m\u001b[0;34m\u001b[0m\u001b[0m\n\u001b[0m",
      "\u001b[0;31mAttributeError\u001b[0m: 'RMTable' object has no attribute 'table'"
     ]
    }
   ],
   "source": [
    "tab.table"
   ]
  },
  {
   "cell_type": "code",
   "execution_count": 25,
   "metadata": {},
   "outputs": [
    {
     "ename": "TypeError",
     "evalue": "'str' object cannot be interpreted as an integer",
     "output_type": "error",
     "traceback": [
      "\u001b[0;31m---------------------------------------------------------------------------\u001b[0m",
      "\u001b[0;31mTypeError\u001b[0m                                 Traceback (most recent call last)",
      "\u001b[0;32m/var/folders/rg/tk14ndkj435d8d1yj25dbz1w00p7kq/T/ipykernel_62015/3943696171.py\u001b[0m in \u001b[0;36m<module>\u001b[0;34m\u001b[0m\n\u001b[0;32m----> 1\u001b[0;31m \u001b[0mstandard\u001b[0m\u001b[0;34m.\u001b[0m\u001b[0mpop\u001b[0m\u001b[0;34m(\u001b[0m\u001b[0;34m'version'\u001b[0m\u001b[0;34m)\u001b[0m\u001b[0;34m\u001b[0m\u001b[0;34m\u001b[0m\u001b[0m\n\u001b[0m",
      "\u001b[0;31mTypeError\u001b[0m: 'str' object cannot be interpreted as an integer"
     ]
    }
   ],
   "source": [
    "standard.pop('version')"
   ]
  },
  {
   "cell_type": "code",
   "execution_count": null,
   "metadata": {},
   "outputs": [],
   "source": []
  }
 ],
 "metadata": {
  "interpreter": {
   "hash": "20d809ec86e111c3d2864aa65d3db8e7fa384fc1384beda5cdcca85df830bf4c"
  },
  "kernelspec": {
   "display_name": "Python 3.9.6 ('base')",
   "language": "python",
   "name": "python3"
  },
  "language_info": {
   "codemirror_mode": {
    "name": "ipython",
    "version": 3
   },
   "file_extension": ".py",
   "mimetype": "text/x-python",
   "name": "python",
   "nbconvert_exporter": "python",
   "pygments_lexer": "ipython3",
   "version": "3.9.6"
  },
  "orig_nbformat": 4
 },
 "nbformat": 4,
 "nbformat_minor": 2
}
